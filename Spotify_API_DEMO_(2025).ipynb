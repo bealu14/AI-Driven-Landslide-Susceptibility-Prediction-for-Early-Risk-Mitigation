{
  "nbformat": 4,
  "nbformat_minor": 0,
  "metadata": {
    "colab": {
      "provenance": [],
      "collapsed_sections": [
        "TeoUz227W0r5"
      ],
      "include_colab_link": true
    },
    "kernelspec": {
      "name": "python3",
      "display_name": "Python 3"
    }
  },
  "cells": [
    {
      "cell_type": "markdown",
      "metadata": {
        "id": "view-in-github",
        "colab_type": "text"
      },
      "source": [
        "<a href=\"https://colab.research.google.com/github/bealu14/AI-Driven-Landslide-Susceptibility-Prediction-for-Early-Risk-Mitigation/blob/main/Spotify_API_DEMO_(2025).ipynb\" target=\"_parent\"><img src=\"https://colab.research.google.com/assets/colab-badge.svg\" alt=\"Open In Colab\"/></a>"
      ]
    },
    {
      "cell_type": "markdown",
      "source": [
        "In this notebook we will fetch and process music data from Spotify.\n",
        "\n",
        "Specifically we will lookup and display the top tracks for any given artist.\n",
        "\n"
      ],
      "metadata": {
        "id": "em9gvVrUT3YE"
      }
    },
    {
      "cell_type": "markdown",
      "metadata": {
        "id": "Mkx6kqODzk5r"
      },
      "source": [
        "## References\n"
      ]
    },
    {
      "cell_type": "markdown",
      "metadata": {
        "id": "mp6ti6rBE5sx"
      },
      "source": [
        "\n",
        "The Spotify API:\n",
        "\n",
        "  + https://developer.spotify.com/documentation/web-api/\n",
        "  + https://developer.spotify.com/documentation/general/guides/authorization-guide\n",
        "  + https://developer.spotify.com/documentation/general/guides/scopes/\n",
        "\n",
        "The `spotipy` package provides an interface into the Spotify API in Python:\n",
        "\n",
        "  + https://github.com/plamere/spotipy\n",
        "  + https://github.com/plamere/spotipy#quick-start\n",
        "  + https://spotipy.readthedocs.io/en/latest/\n",
        "  + https://spotipy.readthedocs.io/en/latest/#client-credentials-flow\n",
        "\n"
      ]
    },
    {
      "cell_type": "markdown",
      "metadata": {
        "id": "cChEVsHSzqsU"
      },
      "source": [
        "\n",
        "## Setup\n",
        "\n"
      ]
    },
    {
      "cell_type": "markdown",
      "metadata": {
        "id": "Waq5k4czWmCS"
      },
      "source": [
        "Installing the `spotipy` package into the notebook environment:"
      ]
    },
    {
      "cell_type": "code",
      "source": [
        "%%capture\n",
        "!pip install spotipy"
      ],
      "metadata": {
        "id": "yEWKc8CYXac8"
      },
      "execution_count": 1,
      "outputs": []
    },
    {
      "cell_type": "markdown",
      "source": [
        "Verifying package has been installed:"
      ],
      "metadata": {
        "id": "veJraGEF665Y"
      }
    },
    {
      "cell_type": "code",
      "source": [
        "!pip show spotipy"
      ],
      "metadata": {
        "colab": {
          "base_uri": "https://localhost:8080/"
        },
        "id": "qw7WKc6A6w3e",
        "outputId": "7a54440f-fd89-4735-bff3-e0b7374bd3e8"
      },
      "execution_count": null,
      "outputs": [
        {
          "output_type": "stream",
          "name": "stdout",
          "text": [
            "Name: spotipy\n",
            "Version: 2.25.1\n",
            "Summary: A light weight Python library for the Spotify Web API\n",
            "Home-page: https://spotipy.readthedocs.org/\n",
            "Author: @plamere\n",
            "Author-email: paul@echonest.com\n",
            "License: MIT\n",
            "Location: /usr/local/lib/python3.12/dist-packages\n",
            "Requires: redis, requests, urllib3\n",
            "Required-by: \n"
          ]
        }
      ]
    },
    {
      "cell_type": "markdown",
      "metadata": {
        "id": "h81rvMYAWkoM"
      },
      "source": [
        "Create a [Spotify API Client application](https://developer.spotify.com/dashboard/applications/), note its credentials, then set them as notebook secrets called `SPOTIPY_CLIENT_ID` and `SPOTIPY_CLIENT_SECRET` respectively."
      ]
    },
    {
      "cell_type": "markdown",
      "source": [
        "Accessing the notebook secrets:"
      ],
      "metadata": {
        "id": "6OSd4TMxF9Ft"
      }
    },
    {
      "cell_type": "code",
      "source": [
        "from google.colab import userdata\n",
        "\n",
        "SPOTIPY_CLIENT_ID = userdata.get(\"SPOTIPY_CLIENT_ID\")\n",
        "SPOTIPY_CLIENT_SECRET = userdata.get(\"SPOTIPY_CLIENT_SECRET\")"
      ],
      "metadata": {
        "id": "l1QEGRWxCaN8"
      },
      "execution_count": null,
      "outputs": []
    },
    {
      "cell_type": "markdown",
      "metadata": {
        "id": "NnlooeDez9oC"
      },
      "source": [
        "## Usage"
      ]
    },
    {
      "cell_type": "markdown",
      "metadata": {
        "id": "BBUDnbNrWw7A"
      },
      "source": [
        "### Info Inputs"
      ]
    },
    {
      "cell_type": "markdown",
      "source": [
        "Enter your search term:"
      ],
      "metadata": {
        "id": "REU8CG917Ru1"
      }
    },
    {
      "cell_type": "code",
      "metadata": {
        "id": "WaEb9THPWvWJ",
        "colab": {
          "base_uri": "https://localhost:8080/",
          "height": 53
        },
        "outputId": "4d693629-f5b4-402d-d97b-7b29e1d5ec21"
      },
      "source": [
        "#search_term = \"Dua Lipa\"\n",
        "#search_term = \"Chris Stapleton\"\n",
        "search_term = input(\"Please input an artist name: \") or \"Chainsmokers\"\n",
        "search_term"
      ],
      "execution_count": null,
      "outputs": [
        {
          "name": "stdout",
          "output_type": "stream",
          "text": [
            "Please input an artist name: The Weeknd\n"
          ]
        },
        {
          "output_type": "execute_result",
          "data": {
            "text/plain": [
              "'The Weeknd'"
            ],
            "application/vnd.google.colaboratory.intrinsic+json": {
              "type": "string"
            }
          },
          "metadata": {},
          "execution_count": 15
        }
      ]
    },
    {
      "cell_type": "markdown",
      "metadata": {
        "id": "TeoUz227W0r5"
      },
      "source": [
        "### Info Processing"
      ]
    },
    {
      "cell_type": "markdown",
      "source": [
        "Initializing a new Spotify API client, using the provided credentials:"
      ],
      "metadata": {
        "id": "pX6pJL4lGsKH"
      }
    },
    {
      "cell_type": "code",
      "metadata": {
        "id": "OQ3QJr6GE3qy",
        "colab": {
          "base_uri": "https://localhost:8080/"
        },
        "outputId": "3e53f0a7-0184-4640-92cf-0522ae3bc367"
      },
      "source": [
        "\n",
        "from spotipy import Spotify\n",
        "from spotipy.oauth2 import SpotifyClientCredentials\n",
        "\n",
        "creds = SpotifyClientCredentials(client_id=SPOTIPY_CLIENT_ID, client_secret=SPOTIPY_CLIENT_SECRET)\n",
        "\n",
        "client = Spotify(client_credentials_manager=creds)\n",
        "print(\"CLIENT:\", type(client))"
      ],
      "execution_count": null,
      "outputs": [
        {
          "output_type": "stream",
          "name": "stdout",
          "text": [
            "CLIENT: <class 'spotipy.client.Spotify'>\n"
          ]
        }
      ]
    },
    {
      "cell_type": "markdown",
      "source": [
        "Fetching tracks for a given artist:"
      ],
      "metadata": {
        "id": "yWb5bjlGQKBS"
      }
    },
    {
      "cell_type": "code",
      "source": [
        "results = client.search(q=search_term, limit=50)\n",
        "print(type(results))\n",
        "print(results.keys())"
      ],
      "metadata": {
        "colab": {
          "base_uri": "https://localhost:8080/"
        },
        "id": "DPhx3dVdRdBy",
        "outputId": "4a79f821-d971-43a2-ee43-bb7cd178fcad"
      },
      "execution_count": null,
      "outputs": [
        {
          "output_type": "stream",
          "name": "stdout",
          "text": [
            "<class 'dict'>\n",
            "dict_keys(['tracks'])\n"
          ]
        }
      ]
    },
    {
      "cell_type": "code",
      "source": [
        "tracks = results[\"tracks\"][\"items\"]\n",
        "print(type(tracks))\n",
        "len(tracks)"
      ],
      "metadata": {
        "colab": {
          "base_uri": "https://localhost:8080/"
        },
        "id": "G7qR7HLoTbYo",
        "outputId": "a7166958-58da-490c-be24-4a82b598cd45"
      },
      "execution_count": null,
      "outputs": [
        {
          "output_type": "stream",
          "name": "stdout",
          "text": [
            "<class 'list'>\n"
          ]
        },
        {
          "output_type": "execute_result",
          "data": {
            "text/plain": [
              "50"
            ]
          },
          "metadata": {},
          "execution_count": 19
        }
      ]
    },
    {
      "cell_type": "code",
      "source": [
        "track = tracks[0]\n",
        "print(type(track))\n",
        "track.keys()"
      ],
      "metadata": {
        "colab": {
          "base_uri": "https://localhost:8080/"
        },
        "id": "ov8fHqoxTN_u",
        "outputId": "1b295129-57f6-4959-c873-d300a5aabea3"
      },
      "execution_count": null,
      "outputs": [
        {
          "output_type": "stream",
          "name": "stdout",
          "text": [
            "<class 'dict'>\n"
          ]
        },
        {
          "output_type": "execute_result",
          "data": {
            "text/plain": [
              "dict_keys(['album', 'artists', 'available_markets', 'disc_number', 'duration_ms', 'explicit', 'external_ids', 'external_urls', 'href', 'id', 'is_local', 'is_playable', 'name', 'popularity', 'preview_url', 'track_number', 'type', 'uri'])"
            ]
          },
          "metadata": {},
          "execution_count": 20
        }
      ]
    },
    {
      "cell_type": "code",
      "source": [
        "del track['album']['available_markets']\n",
        "track['album']"
      ],
      "metadata": {
        "colab": {
          "base_uri": "https://localhost:8080/"
        },
        "id": "7kKbgtveWcNv",
        "outputId": "75b28b2f-e612-4815-b065-2f3fe1e1b423"
      },
      "execution_count": null,
      "outputs": [
        {
          "output_type": "execute_result",
          "data": {
            "text/plain": [
              "{'album_type': 'album',\n",
              " 'artists': [{'external_urls': {'spotify': 'https://open.spotify.com/artist/1Xyo4u8uXC1ZmMpatF05PJ'},\n",
              "   'href': 'https://api.spotify.com/v1/artists/1Xyo4u8uXC1ZmMpatF05PJ',\n",
              "   'id': '1Xyo4u8uXC1ZmMpatF05PJ',\n",
              "   'name': 'The Weeknd',\n",
              "   'type': 'artist',\n",
              "   'uri': 'spotify:artist:1Xyo4u8uXC1ZmMpatF05PJ'}],\n",
              " 'external_urls': {'spotify': 'https://open.spotify.com/album/2ODvWsOgouMbaA5xf0RkJe'},\n",
              " 'href': 'https://api.spotify.com/v1/albums/2ODvWsOgouMbaA5xf0RkJe',\n",
              " 'id': '2ODvWsOgouMbaA5xf0RkJe',\n",
              " 'images': [{'height': 640,\n",
              "   'width': 640,\n",
              "   'url': 'https://i.scdn.co/image/ab67616d0000b2734718e2b124f79258be7bc452'},\n",
              "  {'height': 300,\n",
              "   'width': 300,\n",
              "   'url': 'https://i.scdn.co/image/ab67616d00001e024718e2b124f79258be7bc452'},\n",
              "  {'height': 64,\n",
              "   'width': 64,\n",
              "   'url': 'https://i.scdn.co/image/ab67616d000048514718e2b124f79258be7bc452'}],\n",
              " 'is_playable': True,\n",
              " 'name': 'Starboy',\n",
              " 'release_date': '2016-11-25',\n",
              " 'release_date_precision': 'day',\n",
              " 'total_tracks': 18,\n",
              " 'type': 'album',\n",
              " 'uri': 'spotify:album:2ODvWsOgouMbaA5xf0RkJe'}"
            ]
          },
          "metadata": {},
          "execution_count": 21
        }
      ]
    },
    {
      "cell_type": "markdown",
      "source": [
        "Parsing and displaying track info:"
      ],
      "metadata": {
        "id": "i5pb5nrtSpLo"
      }
    },
    {
      "cell_type": "code",
      "source": [
        "info = {\n",
        "    \"name\": track['name'],\n",
        "    \"artist\": track[\"artists\"][0][\"name\"],\n",
        "    #\"artists\": [artist[\"name\"] for artist in track[\"artists\"]],\n",
        "    \"duration_ms\": track['duration_ms'],\n",
        "    \"explicit\":  track['explicit'],\n",
        "    \"markets\": len(track[\"available_markets\"]),\n",
        "    \"popularity\": track[\"popularity\"],\n",
        "    \"album_art_url\": track[\"album\"][\"images\"][0][\"url\"]\n",
        "}\n",
        "info"
      ],
      "metadata": {
        "colab": {
          "base_uri": "https://localhost:8080/"
        },
        "id": "VriyQxZMSn9M",
        "outputId": "c51291f2-e524-4641-f99e-e489d4d3e39c"
      },
      "execution_count": null,
      "outputs": [
        {
          "output_type": "execute_result",
          "data": {
            "text/plain": [
              "{'name': 'Starboy',\n",
              " 'artist': 'The Weeknd',\n",
              " 'duration_ms': 230453,\n",
              " 'explicit': True,\n",
              " 'markets': 184,\n",
              " 'popularity': 89,\n",
              " 'album_art_url': 'https://i.scdn.co/image/ab67616d0000b2734718e2b124f79258be7bc452'}"
            ]
          },
          "metadata": {},
          "execution_count": 22
        }
      ]
    },
    {
      "cell_type": "markdown",
      "source": [
        "Helper function to fetch and display a table of the artist's tracks:"
      ],
      "metadata": {
        "id": "OrrZJp447LXs"
      }
    },
    {
      "cell_type": "code",
      "source": [
        "from pandas import DataFrame\n",
        "from IPython.core.display import HTML\n",
        "\n",
        "def img_html(url, width=50):\n",
        "    return f\"<img src='{url}' width='{width}' >\"\n",
        "\n",
        "# spotify no longer giving previews?\n",
        "#def preview_html(url):\n",
        "#    if url:\n",
        "#        return '<a href=\"'+ url + '\" >Listen on Spotify</a>'\n",
        "#    else:\n",
        "#        return None\n",
        "\n",
        "def display_top_tracks(artist_name:str, top_n=10, client=client):\n",
        "    results = client.search(q=artist_name, limit=50)\n",
        "\n",
        "    tracks = results[\"tracks\"][\"items\"]\n",
        "\n",
        "    records = []\n",
        "    for i, track in enumerate(tracks):\n",
        "        artist_names = [artist[\"name\"] for artist in track[\"artists\"]]\n",
        "        artist_names = \", \".join(artist_names)\n",
        "        record = {\n",
        "            #\"index\": i,\n",
        "            #\"artist\": track[\"artists\"][0][\"name\"],\n",
        "            \"track\": track['name'],\n",
        "            \"artists\": artist_names,\n",
        "            \"album\": track[\"album\"][\"name\"],\n",
        "            \"release_date\": track[\"album\"][\"release_date\"],\n",
        "            #\"duration_ms\": track[\"duration_ms\"],\n",
        "            \"explicit\":  track['explicit'],\n",
        "            \"markets\": len(track[\"available_markets\"]),\n",
        "            \"popularity\": track[\"popularity\"],\n",
        "            #\"preview_url\": preview_html(track[\"preview_url\"]),\n",
        "            \"album_art\": img_html(track[\"album\"][\"images\"][0][\"url\"])\n",
        "        }\n",
        "        records.append(record)\n",
        "\n",
        "    tracks_df = DataFrame(records)\n",
        "    # top n:\n",
        "    tracks_df.sort_values(by=\"popularity\", ascending=False, inplace=True)\n",
        "    tracks_df = tracks_df.head(top_n)\n",
        "\n",
        "    tracks_df.reset_index(inplace=True, drop=True)\n",
        "    tracks_df[\"rank\"] = tracks_df.index + 1\n",
        "    # reorder cols:\n",
        "    #cols = [\"rank\", \"name\", \"artists\", \"markets\", \"popularity\", \"album_art\"]\n",
        "    cols = [\"rank\"] + tracks_df.drop(columns=[\"rank\"]).columns.tolist()\n",
        "    tracks_df = tracks_df[cols]\n",
        "\n",
        "    # displaying the dataframe as HTML:\n",
        "    tracks_table = HTML(tracks_df.to_html(escape=False, index=False, formatters=dict(Icon=img_html)))\n",
        "    display(tracks_table)\n",
        "\n",
        "\n",
        "#display_top_tracks(\"Ed Sheeran\", top_n=10)"
      ],
      "metadata": {
        "id": "P-A-ttKFK8YC"
      },
      "execution_count": null,
      "outputs": []
    },
    {
      "cell_type": "markdown",
      "source": [
        "### Information Outputs"
      ],
      "metadata": {
        "id": "gj5X5iuRUszc"
      }
    },
    {
      "cell_type": "markdown",
      "source": [
        "Displaying top tracks for a given artist:"
      ],
      "metadata": {
        "id": "8oqacdMxS052"
      }
    },
    {
      "cell_type": "code",
      "source": [
        "display_top_tracks(artist_name=search_term, top_n=10)"
      ],
      "metadata": {
        "colab": {
          "base_uri": "https://localhost:8080/",
          "height": 731
        },
        "id": "0wcn20qQPRmT",
        "outputId": "e0f2ab02-7e13-4764-8022-07b916e7c16c"
      },
      "execution_count": null,
      "outputs": [
        {
          "output_type": "display_data",
          "data": {
            "text/plain": [
              "<IPython.core.display.HTML object>"
            ],
            "text/html": [
              "<table border=\"1\" class=\"dataframe\">\n",
              "  <thead>\n",
              "    <tr style=\"text-align: right;\">\n",
              "      <th>rank</th>\n",
              "      <th>track</th>\n",
              "      <th>artists</th>\n",
              "      <th>album</th>\n",
              "      <th>release_date</th>\n",
              "      <th>explicit</th>\n",
              "      <th>markets</th>\n",
              "      <th>popularity</th>\n",
              "      <th>album_art</th>\n",
              "    </tr>\n",
              "  </thead>\n",
              "  <tbody>\n",
              "    <tr>\n",
              "      <td>1</td>\n",
              "      <td>One Of The Girls (with JENNIE, Lily Rose Depp)</td>\n",
              "      <td>The Weeknd, JENNIE, Lily-Rose Depp</td>\n",
              "      <td>The Idol Episode 4 (Music from the HBO Original Series)</td>\n",
              "      <td>2023-06-23</td>\n",
              "      <td>False</td>\n",
              "      <td>183</td>\n",
              "      <td>90</td>\n",
              "      <td><img src='https://i.scdn.co/image/ab67616d0000b273b0dd6a5cd1dec96c4119c262' width='50' ></td>\n",
              "    </tr>\n",
              "    <tr>\n",
              "      <td>2</td>\n",
              "      <td>Timeless (feat Playboi Carti)</td>\n",
              "      <td>The Weeknd, Playboi Carti</td>\n",
              "      <td>Hurry Up Tomorrow</td>\n",
              "      <td>2025-01-31</td>\n",
              "      <td>True</td>\n",
              "      <td>183</td>\n",
              "      <td>90</td>\n",
              "      <td><img src='https://i.scdn.co/image/ab67616d0000b273982320da137d0de34410df61' width='50' ></td>\n",
              "    </tr>\n",
              "    <tr>\n",
              "      <td>3</td>\n",
              "      <td>Blinding Lights</td>\n",
              "      <td>The Weeknd</td>\n",
              "      <td>After Hours</td>\n",
              "      <td>2020-03-20</td>\n",
              "      <td>False</td>\n",
              "      <td>184</td>\n",
              "      <td>89</td>\n",
              "      <td><img src='https://i.scdn.co/image/ab67616d0000b2738863bc11d2aa12b54f5aeb36' width='50' ></td>\n",
              "    </tr>\n",
              "    <tr>\n",
              "      <td>4</td>\n",
              "      <td>Starboy</td>\n",
              "      <td>The Weeknd, Daft Punk</td>\n",
              "      <td>Starboy</td>\n",
              "      <td>2016-11-25</td>\n",
              "      <td>True</td>\n",
              "      <td>184</td>\n",
              "      <td>89</td>\n",
              "      <td><img src='https://i.scdn.co/image/ab67616d0000b2734718e2b124f79258be7bc452' width='50' ></td>\n",
              "    </tr>\n",
              "    <tr>\n",
              "      <td>5</td>\n",
              "      <td>The Hills</td>\n",
              "      <td>The Weeknd</td>\n",
              "      <td>Beauty Behind The Madness</td>\n",
              "      <td>2015-08-28</td>\n",
              "      <td>True</td>\n",
              "      <td>184</td>\n",
              "      <td>86</td>\n",
              "      <td><img src='https://i.scdn.co/image/ab67616d0000b2737fcead687e99583072cc217b' width='50' ></td>\n",
              "    </tr>\n",
              "    <tr>\n",
              "      <td>6</td>\n",
              "      <td>Die For You</td>\n",
              "      <td>The Weeknd</td>\n",
              "      <td>Starboy</td>\n",
              "      <td>2016-11-24</td>\n",
              "      <td>False</td>\n",
              "      <td>184</td>\n",
              "      <td>85</td>\n",
              "      <td><img src='https://i.scdn.co/image/ab67616d0000b273a048415db06a5b6fa7ec4e1a' width='50' ></td>\n",
              "    </tr>\n",
              "    <tr>\n",
              "      <td>7</td>\n",
              "      <td>Save Your Tears</td>\n",
              "      <td>The Weeknd</td>\n",
              "      <td>After Hours</td>\n",
              "      <td>2020-03-20</td>\n",
              "      <td>True</td>\n",
              "      <td>184</td>\n",
              "      <td>85</td>\n",
              "      <td><img src='https://i.scdn.co/image/ab67616d0000b2738863bc11d2aa12b54f5aeb36' width='50' ></td>\n",
              "    </tr>\n",
              "    <tr>\n",
              "      <td>8</td>\n",
              "      <td>Save Your Tears (Remix) (with Ariana Grande) - Bonus Track</td>\n",
              "      <td>The Weeknd, Ariana Grande</td>\n",
              "      <td>After Hours (Deluxe)</td>\n",
              "      <td>2020-03-20</td>\n",
              "      <td>False</td>\n",
              "      <td>183</td>\n",
              "      <td>82</td>\n",
              "      <td><img src='https://i.scdn.co/image/ab67616d0000b273b5097b81179824803664aaaf' width='50' ></td>\n",
              "    </tr>\n",
              "    <tr>\n",
              "      <td>9</td>\n",
              "      <td>Creepin' (with The Weeknd & 21 Savage)</td>\n",
              "      <td>Metro Boomin, The Weeknd, 21 Savage</td>\n",
              "      <td>HEROES & VILLAINS</td>\n",
              "      <td>2022-12-02</td>\n",
              "      <td>True</td>\n",
              "      <td>183</td>\n",
              "      <td>81</td>\n",
              "      <td><img src='https://i.scdn.co/image/ab67616d0000b273c4fee55d7b51479627c31f89' width='50' ></td>\n",
              "    </tr>\n",
              "    <tr>\n",
              "      <td>10</td>\n",
              "      <td>Die For You</td>\n",
              "      <td>The Weeknd</td>\n",
              "      <td>Starboy</td>\n",
              "      <td>2016-11-25</td>\n",
              "      <td>False</td>\n",
              "      <td>184</td>\n",
              "      <td>79</td>\n",
              "      <td><img src='https://i.scdn.co/image/ab67616d0000b2734718e2b124f79258be7bc452' width='50' ></td>\n",
              "    </tr>\n",
              "  </tbody>\n",
              "</table>"
            ]
          },
          "metadata": {}
        }
      ]
    }
  ]
}